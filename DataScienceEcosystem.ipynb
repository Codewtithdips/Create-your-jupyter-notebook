{
 "cells": [
  {
   "cell_type": "markdown",
   "id": "0c26e847-eb67-400b-94b1-0dd91a413be9",
   "metadata": {},
   "source": [
    "# Data Science Tools and Ecosystem"
   ]
  },
  {
   "cell_type": "markdown",
   "id": "d61d58a1-1c6e-42d5-9c20-e2a1a834d11e",
   "metadata": {},
   "source": [
    "## Exercise 3 - Introduction\n",
    "\n",
    "In this notebook, Data Science Tools and Ecosystem are summarized."
   ]
  },
  {
   "cell_type": "markdown",
   "id": "355e2a15-8266-4526-9b34-e1edbeff82a2",
   "metadata": {},
   "source": [
    "**Objectives:**\n",
    "\n",
    "- List popular languages for Data Science.\n",
    "- Highlight commonly used libraries in Data Science.\n",
    "- Introduce development environment tools for Data Science.\n",
    "- Provide examples of evaluating arithmetic expressions in Python.\n",
    "- Demonstrate conversion of units (e.g., minutes to hours) in Python.\n"
   ]
  },
  {
   "cell_type": "markdown",
   "id": "bd6489fa-0405-4f32-b5bd-49115b1f6205",
   "metadata": {},
   "source": [
    "## Exercise 4 - Popular Data Science Languages\n",
    "\n",
    "Some of the popular languages that Data Scientists use are:\n",
    "\n",
    "1. Python\n",
    "2. R\n",
    "3. SQL\n"
   ]
  },
  {
   "cell_type": "markdown",
   "id": "64933d69-6a7e-4bfe-9b34-07dcbcc5fcfd",
   "metadata": {},
   "source": [
    "## Exercise 5 - Popular Data Science Libraries\n",
    "\n",
    "Some of the commonly used libraries used by Data Scientists include:\n",
    "\n",
    "1. NumPy\n",
    "2. Pandas\n",
    "3. Matplotlib\n"
   ]
  },
  {
   "cell_type": "markdown",
   "id": "5e7d79fb-270d-4dc9-89e1-bb95435bbb6c",
   "metadata": {},
   "source": [
    "## Exercise 6 - Data Science Tools\n",
    "\n",
    "| Data Science Tools |\n",
    "|--------------------|\n",
    "| Jupyter Notebook   |\n",
    "| RStudio            |\n",
    "| VS Code with Python extension |"
   ]
  },
  {
   "cell_type": "markdown",
   "id": "801f8950-01e0-4979-a257-7dbf2cee6583",
   "metadata": {},
   "source": [
    "### Exercise 7 - Introduction to Arithmetic Expression Examples\n",
    "\n",
    "Below are a few examples of evaluating arithmetic expressions in Python.\n"
   ]
  },
  {
   "cell_type": "code",
   "execution_count": 2,
   "id": "f4999928-5aff-48c6-a333-a6526073a393",
   "metadata": {},
   "outputs": [
    {
     "data": {
      "text/plain": [
       "17"
      ]
     },
     "execution_count": 2,
     "metadata": {},
     "output_type": "execute_result"
    }
   ],
   "source": [
    "# This is a simple arithmetic expression to multiply then add integers.\n",
    "result = (3 * 4) + 5\n",
    "result"
   ]
  },
  {
   "cell_type": "code",
   "execution_count": 3,
   "id": "269eacb3-4bed-486f-92e1-7266c2fa1e78",
   "metadata": {},
   "outputs": [
    {
     "data": {
      "text/plain": [
       "3.3333333333333335"
      ]
     },
     "execution_count": 3,
     "metadata": {},
     "output_type": "execute_result"
    }
   ],
   "source": [
    "# This will convert 200 minutes to hours by dividing by 60.\n",
    "minutes = 200\n",
    "hours = minutes / 60\n",
    "hours\n"
   ]
  },
  {
   "cell_type": "markdown",
   "id": "302ef479-e05a-4cb6-ad0b-3f797f62e910",
   "metadata": {},
   "source": [
    "## Author\n",
    "\n",
    "Dipankar Debnath\n"
   ]
  },
  {
   "cell_type": "code",
   "execution_count": null,
   "id": "de3b19f2-c5c4-4c7b-8548-fc5dc4a259b4",
   "metadata": {},
   "outputs": [],
   "source": []
  }
 ],
 "metadata": {
  "kernelspec": {
   "display_name": "Python 3 (ipykernel)",
   "language": "python",
   "name": "python3"
  },
  "language_info": {
   "codemirror_mode": {
    "name": "ipython",
    "version": 3
   },
   "file_extension": ".py",
   "mimetype": "text/x-python",
   "name": "python",
   "nbconvert_exporter": "python",
   "pygments_lexer": "ipython3",
   "version": "3.9.6"
  }
 },
 "nbformat": 4,
 "nbformat_minor": 5
}
